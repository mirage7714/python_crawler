{
 "cells": [
  {
   "cell_type": "code",
   "execution_count": 47,
   "metadata": {},
   "outputs": [],
   "source": [
    "from selenium import webdriver\n",
    "from selenium.webdriver.common.keys import Keys\n",
    "import requests\n",
    "from bs4 import BeautifulSoup as soup\n",
    "import time"
   ]
  },
  {
   "cell_type": "code",
   "execution_count": 25,
   "metadata": {},
   "outputs": [],
   "source": [
    "driver = webdriver.Chrome()\n",
    "main_url = 'http://www.8dogs.com.tw/Page/Product/ProductList.aspx'\n",
    "domain = 'http://www.8dogs.com.tw/Page/Product/'\n",
    "main_page = driver.get(main_url)"
   ]
  },
  {
   "cell_type": "code",
   "execution_count": 4,
   "metadata": {},
   "outputs": [],
   "source": [
    "cont = soup(driver.page_source, 'lxml')\n",
    "div = cont.find_all('a',{'class':'HiddenProductLink'})"
   ]
  },
  {
   "cell_type": "code",
   "execution_count": 41,
   "metadata": {},
   "outputs": [],
   "source": [
    "next_button = driver.find_element_by_class_name('MoveToNextButton')"
   ]
  },
  {
   "cell_type": "code",
   "execution_count": 42,
   "metadata": {},
   "outputs": [],
   "source": [
    "is_next = next_button.is_enabled()"
   ]
  },
  {
   "cell_type": "code",
   "execution_count": 51,
   "metadata": {},
   "outputs": [],
   "source": [
    "def getPageContent(url):\n",
    "    result = []\n",
    "    cont = requests.get(url)\n",
    "    text = soup(cont.text, 'lxml')\n",
    "    prod_name = text.find('span',{'id':'ctl00_Main_ProductName'}).text\n",
    "    prod_id = text.find('span',{'id':'ctl00_Main_ProductId'}).text\n",
    "    prod_attrs = text.find_all('span', {'class': 'AttributeValue'})\n",
    "    result.append(prod_name)\n",
    "    result.append(prod_id)\n",
    "    for a in prod_attrs:\n",
    "        result.append(a.text)\n",
    "    return result"
   ]
  },
  {
   "cell_type": "code",
   "execution_count": 56,
   "metadata": {},
   "outputs": [],
   "source": [
    "def getProductList():\n",
    "    result = []\n",
    "    cont = soup(driver.page_source, 'lxml')\n",
    "    div = cont.find_all('a',{'class':'HiddenProductLink'})\n",
    "    for d in div:\n",
    "        url = d.attrs['href']\n",
    "        product_url = domain + url\n",
    "        page_content = getPageContent(domain + url)\n",
    "        result.append(page_content)\n",
    "    return result"
   ]
  },
  {
   "cell_type": "code",
   "execution_count": 52,
   "metadata": {},
   "outputs": [
    {
     "name": "stdout",
     "output_type": "stream",
     "text": [
      "['Mr.凍乾 犬用天然原肉凍乾-雞肉 160g', 'CMR-D001', '\\n\\n\\xa0100%新鮮食材製成，高蛋白、低脂肪、低熱量。-60℃真空冷凍乾燥技術，保留食物完整營養。ISO22000 HACCP認證工廠製造，品質有保障。無添加防腐劑或人工色素。', '雞肉(純天然、零添加)', '\\n蛋白質 86%以上脂肪 7\\xa0 %以下粗灰分 4\\xa0 %以下碳水化合物 2.2%以下粗纖維 0\\xa0 %', '416\\xa0kcal\\xa0/\\xa0100g\\n', '三個月以上之全齡犬', '160g±5%']\n"
     ]
    }
   ],
   "source": [
    "print(getPageContent('http://www.8dogs.com.tw/Page/Product/ProductDetail.aspx?ProductCategoryNo=279&ProductNo=1762'))"
   ]
  },
  {
   "cell_type": "code",
   "execution_count": 61,
   "metadata": {},
   "outputs": [],
   "source": [
    "contents = []"
   ]
  },
  {
   "cell_type": "code",
   "execution_count": null,
   "metadata": {},
   "outputs": [],
   "source": [
    "while True:\n",
    "    contents.append(getProductList())\n",
    "    next_button = driver.find_element_by_class_name('MoveToNextButton')\n",
    "    is_next = next_button.is_enabled()\n",
    "    if is_next:\n",
    "        next_button.location_once_scrolled_into_view\n",
    "        next_button.click()\n",
    "        time.sleep(10)\n",
    "    else:\n",
    "        break"
   ]
  },
  {
   "cell_type": "code",
   "execution_count": 57,
   "metadata": {},
   "outputs": [],
   "source": [
    "r = getProductList()"
   ]
  },
  {
   "cell_type": "code",
   "execution_count": 63,
   "metadata": {},
   "outputs": [
    {
     "data": {
      "text/plain": [
       "81"
      ]
     },
     "execution_count": 63,
     "metadata": {},
     "output_type": "execute_result"
    }
   ],
   "source": [
    "len(contents)"
   ]
  },
  {
   "cell_type": "code",
   "execution_count": null,
   "metadata": {},
   "outputs": [],
   "source": []
  }
 ],
 "metadata": {
  "kernelspec": {
   "display_name": "Python 3",
   "language": "python",
   "name": "python3"
  },
  "language_info": {
   "codemirror_mode": {
    "name": "ipython",
    "version": 3
   },
   "file_extension": ".py",
   "mimetype": "text/x-python",
   "name": "python",
   "nbconvert_exporter": "python",
   "pygments_lexer": "ipython3",
   "version": "3.7.4"
  }
 },
 "nbformat": 4,
 "nbformat_minor": 4
}
