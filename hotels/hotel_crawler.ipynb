{
 "cells": [
  {
   "cell_type": "code",
   "execution_count": 13,
   "metadata": {
    "collapsed": true
   },
   "outputs": [],
   "source": [
    "import requests\n",
    "import numpy as np\n",
    "import pandas as pd\n",
    "from bs4 import BeautifulSoup as soup\n",
    "import random\n",
    "import time"
   ]
  },
  {
   "cell_type": "markdown",
   "metadata": {},
   "source": [
    "使用預先下載好的useragent檔案來建立useragent list"
   ]
  },
  {
   "cell_type": "code",
   "execution_count": null,
   "metadata": {
    "collapsed": true
   },
   "outputs": [],
   "source": [
    "user_agents = []\n",
    "with open('useragent_list.txt','r+') as f:\n",
    "    agentlist = f.readlines()\n",
    "    for agent in agentlist:\n",
    "        user_agents.append(agent.replace('\\n',''))"
   ]
  },
  {
   "cell_type": "markdown",
   "metadata": {},
   "source": [
    "這次要下載的網頁是交通部觀光局的旅館、民宿名單"
   ]
  },
  {
   "cell_type": "code",
   "execution_count": 3,
   "metadata": {
    "collapsed": true
   },
   "outputs": [],
   "source": [
    "main_url = 'https://www.taiwan.net.tw'\n",
    "page_one = 'https://www.taiwan.net.tw/m1.aspx?sNo=0000112&page=1'"
   ]
  },
  {
   "cell_type": "code",
   "execution_count": null,
   "metadata": {},
   "outputs": [],
   "source": [
    "index = 1\n",
    "with open('hotels.txt','a+',encoding='utf8') as f: \n",
    "    while(index < 549):\n",
    "        print('Start to parse page: {}'.format(index))\n",
    "        headers = {'UserAgent':GetAgent()}\n",
    "        url = 'https://www.taiwan.net.tw/m1.aspx?sNo=0000112&page='+str(index)\n",
    "        results = requests.get(url, headers = headers)\n",
    "        results.encoding = 'utf8'\n",
    "        content = soup(results.text,'lxml')\n",
    "        items = content.find_all('ul',{'class':'subhotelList'})\n",
    "        for x in range(1, len(items)):\n",
    "            name = items[x].find('li',{'aria-label':'名稱'})\n",
    "            category = items[x].find('li',{'aria-label':'類別'})\n",
    "            address = items[x].find('li',{'aria-label':'地址'})\n",
    "            phone = items[x].find('li',{'aria-label':'電話'})\n",
    "            info = name.text+';'+category.text+';'+address.text+';'+phone.text\n",
    "            print(info)\n",
    "            f.write(info+'\\n')\n",
    "\n",
    "        index += 1\n",
    "        t = int(random.random() * 20)\n",
    "        time.sleep(t)\n",
    "        f.flush()"
   ]
  },
  {
   "cell_type": "code",
   "execution_count": null,
   "metadata": {
    "collapsed": true
   },
   "outputs": [],
   "source": []
  }
 ],
 "metadata": {
  "kernelspec": {
   "display_name": "Python 3",
   "language": "python",
   "name": "python3"
  },
  "language_info": {
   "codemirror_mode": {
    "name": "ipython",
    "version": 3
   },
   "file_extension": ".py",
   "mimetype": "text/x-python",
   "name": "python",
   "nbconvert_exporter": "python",
   "pygments_lexer": "ipython3",
   "version": "3.6.3"
  }
 },
 "nbformat": 4,
 "nbformat_minor": 2
}
