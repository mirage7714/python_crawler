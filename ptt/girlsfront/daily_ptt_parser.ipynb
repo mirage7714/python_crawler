{
 "cells": [
  {
   "cell_type": "code",
   "execution_count": 2,
   "metadata": {},
   "outputs": [],
   "source": [
    "import requests\n",
    "from bs4 import BeautifulSoup as soup\n",
    "import random\n",
    "import time\n",
    "from datetime import datetime\n",
    "from dateutil.parser import parse\n",
    "import sys"
   ]
  },
  {
   "cell_type": "code",
   "execution_count": 3,
   "metadata": {},
   "outputs": [],
   "source": [
    "def GetNextPage(content):\n",
    "    next_page = content.find('div',{'class':'btn-group btn-group-paging'}).find_all('a',{'class':'btn wide'})\n",
    "    next_page_url = next_page[1].attrs['href']\n",
    "    page_number = next_page_url.split('index')[1].split('.')[0]\n",
    "    return page_number"
   ]
  },
  {
   "cell_type": "code",
   "execution_count": 4,
   "metadata": {},
   "outputs": [],
   "source": [
    "def LoadUserAgentFile(file):\n",
    "    agent_list = []\n",
    "    with open(file, 'r+') as f:\n",
    "        agents = f.readlines()\n",
    "    for agent in agents:\n",
    "        agent_list.append(agent.replace('\\n',''))\n",
    "    return agent_list"
   ]
  },
  {
   "cell_type": "code",
   "execution_count": 5,
   "metadata": {},
   "outputs": [],
   "source": [
    "def GetUserAgent():\n",
    "    index = int(random.random()* len(agent_list))\n",
    "    headers = {'User-Agent':agent_list[index]}\n",
    "    return headers"
   ]
  },
  {
   "cell_type": "code",
   "execution_count": 6,
   "metadata": {},
   "outputs": [],
   "source": [
    "def GetUrl(content):\n",
    "    page_url = content.find('a').attrs['href']\n",
    "    return page_url"
   ]
  },
  {
   "cell_type": "code",
   "execution_count": 8,
   "metadata": {},
   "outputs": [],
   "source": [
    "def GetPageContent(url, headers):\n",
    "    po_cont = {}\n",
    "    req = requests.get(url, headers = headers)\n",
    "    tree = soup(req.text, 'lxml')\n",
    "    meta = tree.find_all('span',{'class':'article-meta-value'})\n",
    "    cont = req.text.split()\n",
    "    pushes = tree.find_all('span',{'class':'f3 push-content'})\n",
    "    push_list = []\n",
    "    for push in pushes:\n",
    "        push_list.append(push.text.replace(': ',''))\n",
    "    po_cont['push'] = push_list\n",
    "    po_cont['author'] = meta[0].text\n",
    "    po_cont['title'] = meta[2].text\n",
    "    po_cont['time'] = meta[3].text\n",
    "    cont = req.text.split(meta[3].text)[1].split('--')[0].replace('\\n',' ').replace('</span></div>','')\n",
    "    po_cont['cont'] = cont\n",
    "    return po_cont"
   ]
  },
  {
   "cell_type": "code",
   "execution_count": 27,
   "metadata": {},
   "outputs": [],
   "source": [
    "def CheckTime(day):\n",
    "    d = datetime.strptime(day, '%Y%m%d')\n",
    "    t_d = '{}/{}'.format(d.month, d.day)\n",
    "    return t_d"
   ]
  },
  {
   "cell_type": "code",
   "execution_count": 60,
   "metadata": {},
   "outputs": [],
   "source": [
    "def GetPostInTime(day, url):\n",
    "    target_page_list = []\n",
    "    divs = soup(requests.get(url, GetUserAgent()).text, 'lxml').find_all('div',{'class':'r-ent'})\n",
    "    for div in divs:\n",
    "        try:\n",
    "            po_time = div.find('div',{'class':'date'}).text.strip()\n",
    "            link = div.find('div',{'class':'title'}).find('a').attrs['href']\n",
    "            if(po_time == day):\n",
    "                target_page_list.append(link)\n",
    "        except:\n",
    "            continue\n",
    "    return target_page_list"
   ]
  },
  {
   "cell_type": "code",
   "execution_count": 61,
   "metadata": {},
   "outputs": [],
   "source": [
    "def GetDaily(day, page_number, url, file, board):\n",
    "    total_page_list = []\n",
    "    for num in range(int(page_number)+1,1,-1):\n",
    "        page_url = url+'/bbs/'+board+'/index'+str(num)+'.html'\n",
    "        target_page_list = GetPostInTime(day, page_url)\n",
    "        if(len(target_page_list) > 0):\n",
    "            for target in target_page_list:\n",
    "                total_page_list.append(target)\n",
    "        else:\n",
    "            break\n",
    "    with open(file, 'a+', encoding = 'utf8') as f:\n",
    "        for page in total_page_list:    \n",
    "            detail = GetPageContent(url+page, GetUserAgent())\n",
    "            f.write(str(detail)+'\\n')\n",
    "        f.flush()"
   ]
  },
  {
   "cell_type": "code",
   "execution_count": 62,
   "metadata": {},
   "outputs": [],
   "source": [
    "url = 'https://www.ptt.cc'\n",
    "board_name = 'GirlsFront'\n",
    "target_day = '20180516'\n",
    "output_file = '{}_{}.csv'.format(board_name, target_day)\n",
    "first_page = url+'/bbs/'+board_name+'/index.html'\n",
    "agent_list = LoadUserAgentFile('useragent_list.txt')\n",
    "results = requests.get(first_page, GetUserAgent())\n",
    "content = soup(results.text, 'lxml')\n",
    "page_number= GetNextPage(content)\n",
    "day = CheckTime(target_day)"
   ]
  },
  {
   "cell_type": "code",
   "execution_count": 63,
   "metadata": {},
   "outputs": [],
   "source": [
    "GetDaily(day, page_number, url, output_file, board_name)"
   ]
  },
  {
   "cell_type": "code",
   "execution_count": null,
   "metadata": {},
   "outputs": [],
   "source": []
  }
 ],
 "metadata": {
  "kernelspec": {
   "display_name": "Python 3",
   "language": "python",
   "name": "python3"
  },
  "language_info": {
   "codemirror_mode": {
    "name": "ipython",
    "version": 3
   },
   "file_extension": ".py",
   "mimetype": "text/x-python",
   "name": "python",
   "nbconvert_exporter": "python",
   "pygments_lexer": "ipython3",
   "version": "3.6.4"
  }
 },
 "nbformat": 4,
 "nbformat_minor": 2
}
