{
 "cells": [
  {
   "cell_type": "code",
   "execution_count": 83,
   "id": "769616a9-743d-4e1b-a817-ffc2506186a1",
   "metadata": {},
   "outputs": [],
   "source": [
    "from selenium import webdriver\n",
    "from selenium.webdriver.common.keys import Keys\n",
    "from selenium.webdriver.chrome.options import Options\n",
    "import time"
   ]
  },
  {
   "cell_type": "code",
   "execution_count": 107,
   "id": "dfdd71f6-79e8-4e86-afd5-c7fc71257c75",
   "metadata": {},
   "outputs": [],
   "source": [
    "options = Options()\n",
    "options.headless = True\n",
    "driver = webdriver.Chrome(options=options)\n",
    "base_url = 'https://www.cakeresume.com'\n",
    "main_url = '{}/jobs?location_list%5B0%5D=Taiwan&profession%5B0%5D=it_qa-test-engineer&order=latest'.format(base_url)\n",
    "main_page = driver.get(main_url)\n",
    "job_data = []\n",
    "is_fulfilled = False"
   ]
  },
  {
   "cell_type": "code",
   "execution_count": 108,
   "id": "457465ab-79e5-4c50-9a35-f7f85d53246e",
   "metadata": {},
   "outputs": [],
   "source": [
    "while not is_fulfilled:\n",
    "    job_list = driver.find_elements_by_css_selector(\"div[class^='JobSearchItem_wrapper']\")\n",
    "    next_page_btn = driver.find_element_by_css_selector('a[class^=\"Pagination_itemNavigation\"]')\n",
    "    for job in job_list:\n",
    "        job_title = job.find_element_by_css_selector(\"a[class^='JobSearchItem_jobTitle']\")\n",
    "        job_link = job_title.get_attribute('href')\n",
    "        comp_name = job.find_element_by_css_selector(\"a[class^='JobSearchItem_companyName']\").text\n",
    "        salary_range = job.find_element_by_css_selector(\"div[class^='JobSearchItem_features']\").find_elements_by_css_selector(\"[class^='InlineMessage_label']\")[2].text\n",
    "        update_time = job.find_element_by_css_selector(\"div[class^='JobSearchItem_footer']\").find_elements_by_css_selector(\"[class^='InlineMessage_label']\")[0].text\n",
    "        if '2 天前' in update_time:\n",
    "            is_fulfilled = True\n",
    "            break\n",
    "        job = {}\n",
    "        job['title'] = job_title.text\n",
    "        job['link'] = job_link\n",
    "        job['company'] = comp_name\n",
    "        job['salary'] = salary_range\n",
    "        job['update'] = update_time\n",
    "        job_data.append(job)\n",
    "    if not is_fulfilled: \n",
    "        next_page_btn.location_once_scrolled_into_view\n",
    "        next_page_btn.click()\n",
    "        time.sleep(10)"
   ]
  },
  {
   "cell_type": "code",
   "execution_count": 110,
   "id": "10841b4f-ea36-4207-aac9-f7952720d576",
   "metadata": {},
   "outputs": [
    {
     "name": "stdout",
     "output_type": "stream",
     "text": [
      "{'title': 'Senior QA Tester | 資深 QA 測試人員', 'link': 'https://www.cakeresume.com/companies/portto/jobs/senior-qa-tester-senior-qa-tester', 'company': 'portto 門戶科技 | Blocto', 'salary': '60萬 ~ 120萬 TWD / 年', 'update': '大約 4 小時前更新'}\n",
      "{'title': '軟體測試工程師(數位開發部)', 'link': 'https://www.cakeresume.com/companies/cathaysec/jobs/40a865', 'company': '國泰綜合證券股份有限公司', 'salary': '4萬 ~ 5.5萬 TWD / 月', 'update': '大約 6 小時前更新'}\n",
      "{'title': 'Senior QA Automation Engineer 資深自動化測試工程師 SDET', 'link': 'https://www.cakeresume.com/companies/canner/jobs/senior-qa-automation-engineer', 'company': 'Canner （易開科技）', 'salary': '120萬 ~ 150萬 TWD / 年', 'update': '大約 6 小時前更新'}\n",
      "{'title': '軟體測試工程師', 'link': 'https://www.cakeresume.com/companies/ihh/jobs/test-engineer-1ea129', 'company': '桓竑智聯股份有限公司', 'salary': '4萬 ~ 7萬 TWD / 月', 'update': '大約 11 小時前更新'}\n",
      "{'title': 'Quality Assurance Engineer', 'link': 'https://www.cakeresume.com/companies/unnotech/jobs/qa-2e2aaf', 'company': 'UNNOTECH', 'salary': '6萬 ~ 8萬 TWD / 月', 'update': '大約 12 小時前更新'}\n",
      "{'title': '車聯網平台 - 軟體測試工程師 QA Engineer', 'link': 'https://www.cakeresume.com/companies/3drens/jobs/car-networking-platform-qa-engineer', 'company': '三維人股份有限公司', 'salary': '56萬 ~ 63萬 TWD / 年', 'update': '大約 13 小時前更新'}\n",
      "{'title': '車聯網平台 - 手動測試實習生 QA Intern', 'link': 'https://www.cakeresume.com/companies/3drens/jobs/6fd640', 'company': '三維人股份有限公司', 'salary': '180 ~ 180 TWD / 小時', 'update': '大約 13 小時前更新'}\n",
      "{'title': '大流量社群平台/軟體手動測試工程師/ QA Engineer/ Software Quality Assurance Engineer', 'link': 'https://www.cakeresume.com/companies/playsee/jobs/ea23e0', 'company': 'Playsee', 'salary': '60萬 ~ 120萬 TWD / 年', 'update': '1 天前更新'}\n",
      "{'title': '軟體手動測試助理工程師QA assistant', 'link': 'https://www.cakeresume.com/companies/playsee/jobs/manual-software-testing-assistant', 'company': 'Playsee', 'salary': '2.6萬 ~ 4萬 TWD / 月', 'update': '1 天前更新'}\n",
      "{'title': '[KKStream] Senior Quality Assurance Engineer (Taipei/Kaohsiung)', 'link': 'https://www.cakeresume.com/companies/kkcompany/jobs/c9ab25', 'company': 'KKCompany', 'salary': '115萬 ~ 173萬 TWD / 年', 'update': '1 天前更新'}\n",
      "{'title': '[KKStream] Software Development Engineer in Test (Taipei/Kaohsiung)', 'link': 'https://www.cakeresume.com/companies/kkcompany/jobs/b8ee1e', 'company': 'KKCompany', 'salary': '75萬 ~ 150萬 TWD / 年', 'update': '1 天前更新'}\n",
      "{'title': '測試工程師 (QA)', 'link': 'https://www.cakeresume.com/companies/104-company-1a2x6bl7b1-jobsource-joblist_r_cust/jobs/test-engineer-qa', 'company': '鏈星築夢有限公司', 'salary': '6.5萬 ~ 6.5萬 TWD / 月', 'update': '1 天前更新'}\n",
      "{'title': 'QA Engineer', 'link': 'https://www.cakeresume.com/companies/XREX/jobs/qa-engineer-9f0138', 'company': 'XREX Inc.', 'salary': '85萬 ~ 160萬 TWD / 年', 'update': '1 天前更新'}\n",
      "{'title': 'QA Engineer', 'link': 'https://www.cakeresume.com/companies/XREX/jobs/qa-engineer-9f0138', 'company': 'XREX Inc.', 'salary': '85萬 ~ 160萬 TWD / 年', 'update': '1 天前更新'}\n",
      "{'title': '【2023雲端經驗人才招募計畫】雲端測試工程師 (2/12 投遞截止)', 'link': 'https://www.cakeresume.com/companies/cathay-united-bank/jobs/27bb08', 'company': 'Cathay United Bank 國泰世華商業銀行', 'salary': '4萬+ TWD / 月', 'update': '1 天前更新'}\n",
      "{'title': 'QA測試工程師', 'link': 'https://www.cakeresume.com/companies/chenggo/jobs/qa-test-engineer-b0bc59', 'company': '澄果資訊服務有限公司', 'salary': '3.5萬 ~ 6萬 TWD / 月', 'update': '1 天前更新'}\n",
      "{'title': 'Automation Test Development Engineer', 'link': 'https://www.cakeresume.com/companies/gogolook/jobs/automation-qa-app', 'company': 'Gogolook', 'salary': '120萬 ~ 180萬 TWD / 年', 'update': '1 天前更新'}\n",
      "{'title': 'Sr. Software Engineer in Test 資深測試工程師', 'link': 'https://www.cakeresume.com/companies/cybavo-d82e91/jobs/test-engineer-3b071e', 'company': 'CYBAVO 博歐科技有限公司', 'salary': '213萬 ~ 297.5萬 TWD / 年', 'update': '1 天前更新'}\n",
      "{'title': 'Product Quality Specialist - part time', 'link': 'https://www.cakeresume.com/companies/influenxio-29c495/jobs/product-quality-specialist-part-time', 'company': 'Influenxio 圈圈科技有限公司', 'salary': '176 ~ 176 TWD / 小時', 'update': '1 天前更新'}\n",
      "{'title': 'SO | 軟體專案測試工程師 QA (捷運關渡站附近)', 'link': 'https://www.cakeresume.com/companies/infotech/jobs/b0d800', 'company': '殷富資訊股份有限公司', 'salary': '3萬 ~ 4萬 TWD / 月', 'update': '1 天前更新'}\n",
      "{'title': '測試工讀生', 'link': 'https://www.cakeresume.com/companies/gamesparcs/jobs/test-work-students', 'company': '隆中網絡股份有限公司', 'salary': '176 ~ 176 TWD / 小時', 'update': '1 天前更新'}\n",
      "{'title': '【知名外商軟體】Automation QA Engineer-軟體測試工程師', 'link': 'https://www.cakeresume.com/companies/carewell-134992/jobs/123f4f', 'company': '怡東人事顧問股份有限公司', 'salary': '4萬 ~ 6萬 TWD / 月', 'update': '1 天前更新'}\n"
     ]
    }
   ],
   "source": [
    "for job in job_data:\n",
    "    print(job)"
   ]
  },
  {
   "cell_type": "code",
   "execution_count": 105,
   "id": "7ed2a193-0f2e-46f1-9ad5-6adfd8951a66",
   "metadata": {},
   "outputs": [],
   "source": [
    "driver.close()"
   ]
  },
  {
   "cell_type": "code",
   "execution_count": null,
   "id": "d0b77a04-be38-49bd-a8e9-06f35771d082",
   "metadata": {},
   "outputs": [],
   "source": []
  }
 ],
 "metadata": {
  "kernelspec": {
   "display_name": "Python 3 (ipykernel)",
   "language": "python",
   "name": "python3"
  },
  "language_info": {
   "codemirror_mode": {
    "name": "ipython",
    "version": 3
   },
   "file_extension": ".py",
   "mimetype": "text/x-python",
   "name": "python",
   "nbconvert_exporter": "python",
   "pygments_lexer": "ipython3",
   "version": "3.9.13"
  }
 },
 "nbformat": 4,
 "nbformat_minor": 5
}
