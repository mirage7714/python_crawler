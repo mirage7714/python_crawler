{
 "cells": [
  {
   "cell_type": "code",
   "execution_count": 1,
   "metadata": {},
   "outputs": [
    {
     "name": "stderr",
     "output_type": "stream",
     "text": [
      "Using TensorFlow backend.\n"
     ]
    }
   ],
   "source": [
    "import numpy as np\n",
    "import pandas as pd\n",
    "import tensorflow as tf\n",
    "import os.path\n",
    "import pickle\n",
    "import cv2\n",
    "import keras\n",
    "import imutils\n",
    "from imutils import paths\n",
    "from sklearn.model_selection import train_test_split\n",
    "from sklearn.preprocessing import LabelBinarizer\n",
    "from keras.models import Sequential\n",
    "from keras.layers.core import Flatten, Dense\n",
    "from keras.layers.convolutional import MaxPooling2D, Conv2D"
   ]
  },
  {
   "cell_type": "code",
   "execution_count": 2,
   "metadata": {
    "collapsed": true
   },
   "outputs": [],
   "source": [
    "chars_image_folder = 'extract_number_images'\n",
    "model_filename = 'phone_number_model.hdf5'\n",
    "model_labels_filename = 'model_labels.dat'"
   ]
  },
  {
   "cell_type": "code",
   "execution_count": 3,
   "metadata": {
    "collapsed": true
   },
   "outputs": [],
   "source": [
    "data = []\n",
    "labels = []"
   ]
  },
  {
   "cell_type": "markdown",
   "metadata": {},
   "source": [
    "因為每個數字圖檔的尺寸並不完全相同，所以需要先重新調整成相同尺寸才能建立資料集"
   ]
  },
  {
   "cell_type": "code",
   "execution_count": 4,
   "metadata": {
    "collapsed": true
   },
   "outputs": [],
   "source": [
    "def resize_to_fit(image, width, height):\n",
    "    padW = int((width - image.shape[1]) / 2.0)\n",
    "    padH = int((height - image.shape[0]) / 2.0)\n",
    "    image = cv2.copyMakeBorder(image, padH, padH, padW, padW,\n",
    "        cv2.BORDER_REPLICATE)\n",
    "    image = cv2.resize(image, (width, height))\n",
    "    return image"
   ]
  },
  {
   "cell_type": "markdown",
   "metadata": {},
   "source": [
    "讀取所有檔案，並將圖檔先重新調整尺寸為12*12後再建立資料集"
   ]
  },
  {
   "cell_type": "code",
   "execution_count": 6,
   "metadata": {},
   "outputs": [],
   "source": [
    "for image_file in paths.list_images(chars_image_folder):\n",
    "    image = cv2.imread(image_file)\n",
    "    image = cv2.cvtColor(image, cv2.COLOR_BGR2GRAY)\n",
    "    image = resize_to_fit(image, 12,12)\n",
    "    image = np.expand_dims(image, axis = 2)\n",
    "    label = image_file.split(os.path.sep)[-2]\n",
    "    data.append(image)\n",
    "    labels.append(label)"
   ]
  },
  {
   "cell_type": "markdown",
   "metadata": {},
   "source": [
    "將資料分割成訓練組與測試組，並將數字轉成0~1之間的數值"
   ]
  },
  {
   "cell_type": "code",
   "execution_count": 7,
   "metadata": {},
   "outputs": [],
   "source": [
    "data = np.array(data, dtype = 'float') / 255.0\n",
    "labels = np.array(labels)\n",
    "X_train, X_test, y_train, y_test = train_test_split(data, labels, test_size = 0.3)"
   ]
  },
  {
   "cell_type": "code",
   "execution_count": 8,
   "metadata": {
    "collapsed": true
   },
   "outputs": [],
   "source": [
    "lb = LabelBinarizer().fit(y_train)\n",
    "y_train = lb.transform(y_train)\n",
    "y_test = lb.transform(y_test)"
   ]
  },
  {
   "cell_type": "markdown",
   "metadata": {},
   "source": [
    "將標籤另存成一個檔案，後續預測時可以從這個標籤檔案中讀取標籤並轉換成實際預測的數字而不是機率"
   ]
  },
  {
   "cell_type": "code",
   "execution_count": 9,
   "metadata": {
    "collapsed": true
   },
   "outputs": [],
   "source": [
    "with open(model_labels_filename, 'wb') as f:\n",
    "    pickle.dump(lb, f)"
   ]
  },
  {
   "cell_type": "markdown",
   "metadata": {},
   "source": [
    "建立CNN模型，先進行兩次卷積，再建立一個三層fully-connected網路，最後輸出11個類別的特徵(0、1、2、3、4、5、6、7、8、9、#)"
   ]
  },
  {
   "cell_type": "code",
   "execution_count": 10,
   "metadata": {
    "collapsed": true
   },
   "outputs": [],
   "source": [
    "model = Sequential()\n",
    "\n",
    "model.add(Conv2D(50,(5,5), padding = 'same', input_shape = (12,12,1), activation = 'relu'))\n",
    "model.add(Conv2D(50,(5,5), padding = 'same', activation = 'relu'))\n",
    "model.add(MaxPooling2D(pool_size= (2,2), strides = (2,2)))\n",
    "\n",
    "model.add(Conv2D(50, (5,5), padding = 'same', activation = 'relu'))\n",
    "model.add(Conv2D(50, (5,5), padding = 'same', activation = 'relu'))\n",
    "model.add(MaxPooling2D(pool_size= (2,2), strides = (2,2)))\n",
    "\n",
    "model.add(Flatten())\n",
    "model.add(Dense(500, activation = 'relu'))\n",
    "model.add(Dense(500, activation = 'relu'))\n",
    "model.add(Dense(500, activation = 'relu'))\n",
    "model.add(Dense(11, activation = 'softmax'))\n",
    "model.compile(loss = 'categorical_crossentropy',optimizer = 'adam', metrics = ['accuracy'])"
   ]
  },
  {
   "cell_type": "markdown",
   "metadata": {},
   "source": [
    "第一次訓練模型時，使用50個epochs進行訓練，得到預測準確率為1的模型，不過實際測試只需要10個epochs就可以達到相同效果"
   ]
  },
  {
   "cell_type": "code",
   "execution_count": 12,
   "metadata": {},
   "outputs": [
    {
     "name": "stdout",
     "output_type": "stream",
     "text": [
      "Train on 5287 samples, validate on 2266 samples\n",
      "Epoch 1/10\n",
      "5287/5287 [==============================] - 55s - loss: 1.2538e-07 - acc: 1.0000 - val_loss: 1.2076e-07 - val_acc: 1.0000\n",
      "Epoch 2/10\n",
      "5287/5287 [==============================] - 50s - loss: 1.2343e-07 - acc: 1.0000 - val_loss: 1.2018e-07 - val_acc: 1.0000\n",
      "Epoch 3/10\n",
      "5287/5287 [==============================] - 52s - loss: 1.2217e-07 - acc: 1.0000 - val_loss: 1.1987e-07 - val_acc: 1.0000\n",
      "Epoch 4/10\n",
      "5287/5287 [==============================] - 51s - loss: 1.2129e-07 - acc: 1.0000 - val_loss: 1.1974e-07 - val_acc: 1.0000\n",
      "Epoch 5/10\n",
      "5287/5287 [==============================] - 49s - loss: 1.2079e-07 - acc: 1.0000 - val_loss: 1.1952e-07 - val_acc: 1.0000\n",
      "Epoch 6/10\n",
      "5287/5287 [==============================] - 48s - loss: 1.2037e-07 - acc: 1.0000 - val_loss: 1.1945e-07 - val_acc: 1.0000\n",
      "Epoch 7/10\n",
      "5287/5287 [==============================] - 50s - loss: 1.2007e-07 - acc: 1.0000 - val_loss: 1.1937e-07 - val_acc: 1.0000\n",
      "Epoch 8/10\n",
      "5287/5287 [==============================] - 50s - loss: 1.1984e-07 - acc: 1.0000 - val_loss: 1.1926e-07 - val_acc: 1.0000\n",
      "Epoch 9/10\n",
      "5287/5287 [==============================] - 51s - loss: 1.1959e-07 - acc: 1.0000 - val_loss: 1.1921e-07 - val_acc: 1.0000\n",
      "Epoch 10/10\n",
      "5287/5287 [==============================] - 52s - loss: 1.1948e-07 - acc: 1.0000 - val_loss: 1.1921e-07 - val_acc: 1.0000\n"
     ]
    },
    {
     "data": {
      "text/plain": [
       "<keras.callbacks.History at 0x220cc6177b8>"
      ]
     },
     "execution_count": 12,
     "metadata": {},
     "output_type": "execute_result"
    }
   ],
   "source": [
    "model.fit(X_train, y_train, validation_data = (X_test, y_test), batch_size = 10, epochs = 10, verbose = 1)"
   ]
  },
  {
   "cell_type": "code",
   "execution_count": 34,
   "metadata": {
    "collapsed": true
   },
   "outputs": [],
   "source": [
    "model.save(model_filename)"
   ]
  },
  {
   "cell_type": "code",
   "execution_count": null,
   "metadata": {
    "collapsed": true
   },
   "outputs": [],
   "source": []
  }
 ],
 "metadata": {
  "kernelspec": {
   "display_name": "Python 3",
   "language": "python",
   "name": "python3"
  },
  "language_info": {
   "codemirror_mode": {
    "name": "ipython",
    "version": 3
   },
   "file_extension": ".py",
   "mimetype": "text/x-python",
   "name": "python",
   "nbconvert_exporter": "python",
   "pygments_lexer": "ipython3",
   "version": "3.6.3"
  }
 },
 "nbformat": 4,
 "nbformat_minor": 2
}
